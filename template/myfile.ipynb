# 標準パッケージ
import numpy as np
import scipy as sp
import pandas as pd

# zipファイル読み込み
import requests,zipfile
from io import StringIO
import io

#############################################

# ファイル読み込み
# import_file_path='/Users/kentaro/Downloads/manabi/customer_summary.csv'
import_file_path='/Users/kentaro/Downloads/ダイエット意識調査結果_201806.csv'

# ファイルの文字エンコーディングを自動的に検出する
import chardet
# ファイルの中身を読み込み、文字エンコーディングを自動的に検出する
with open(import_file_path, 'rb') as f:
    rawdata = f.read()
    result = chardet.detect(rawdata)

# 自動検出した結果
print(result['encoding'])
# 自動検出できないのであれば、手動で確認する nkf -guess ファイル名

with open(import_file_path, 'rb') as f:
    result = chardet.detect(f.read())
    
encoding = result['encoding']

# shift-JIS = cp932
df = pd.read_csv(import_file_path, encoding='cp932')
df.head()

#############################################

# ファイルの特徴を確認
# データ数
# nulldataの有無
# 文字コード
df.info()
df.describe()

#############################################

# 特定カラムのデータ特徴を確認
# column='<確認したいカラム名を入力>'
column='Q3'
print(column)
print('平均値mean',df[column].mean())
print('中央値',df[column].median())
print('最頻値',df[column].mode())
print('分散',df[column].var(ddof=0))
print('標準偏差std',np.sqrt(df[column].var(ddof=0)))

df[column].describe()


